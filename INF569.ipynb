{
 "cells": [
  {
   "cell_type": "markdown",
   "metadata": {},
   "source": [
    "# <center>INF569(MACHINE LEARNING 2) INSTITUT POLYTECHNIQUE DE PARIS 31 MARCH 2020</center>#\n",
    "# <center>COURS MAP569</center>#\n",
    "# <center>HOUSE PRICES : ADVANCED REGRESSION TECHNIQUESouse Prices</center>#\n",
    "## <center>STUDENT : PANONGBENE JEAN MOHAMED SAWADOGO</center>#"
   ]
  },
  {
   "cell_type": "code",
   "execution_count": 1,
   "metadata": {},
   "outputs": [],
   "source": [
    "import csv\n",
    "import marshal\n",
    "import numpy as np\n",
    "import pandas as pd\n",
    "import tensorflow as tf\n",
    "import networkx as nwx\n",
    "from sklearn import svm\n",
    "from sklearn.svm import SVC\n",
    "from datetime import datetime\n",
    "import matplotlib.pyplot as plt\n",
    "from xgboost import XGBClassifier\n",
    "from sklearn.metrics import accuracy_score\n",
    "from sklearn.metrics import confusion_matrix\n",
    "from sklearn.ensemble import BaggingClassifier\n",
    "from sklearn.neighbors import KNeighborsClassifier\n",
    "from sklearn.model_selection import cross_val_score\n",
    "from sklearn.ensemble import RandomForestClassifier\n",
    "from sklearn.model_selection import train_test_split\n",
    "from sklearn.feature_selection import SelectFromModel\n",
    "from sklearn.ensemble import GradientBoostingClassifier"
   ]
  },
  {
   "cell_type": "markdown",
   "metadata": {},
   "source": [
    "## I USE THIS FUNCTION TO DETERMINATE THE EXECUTION TIME"
   ]
  },
  {
   "cell_type": "code",
   "execution_count": 2,
   "metadata": {},
   "outputs": [],
   "source": [
    "#https://www.kaggle.com/tilii7/hyperparameter-grid-search-with-xgboost\n",
    "def timer(start_time=None):\n",
    "    if not start_time:\n",
    "        start_time = datetime.now()\n",
    "        return start_time\n",
    "    elif start_time:\n",
    "        thour, temp_sec = divmod((datetime.now() - start_time).total_seconds(), 3600)\n",
    "        tmin, tsec = divmod(temp_sec, 60)\n",
    "        print('\\n Time taken: %i hours %i minutes and %s seconds.' % (thour, tmin, round(tsec, 2)))"
   ]
  },
  {
   "cell_type": "markdown",
   "metadata": {},
   "source": [
    "## TO USE THIS FUNCTION TO SAVE THE TARGET RESULT\n",
    "\n",
    "1-- This function take a list of of value(liste_to_save) and the string(file_name) and create a file named \"file_name.csv\" containing our values"
   ]
  },
  {
   "cell_type": "code",
   "execution_count": 3,
   "metadata": {},
   "outputs": [],
   "source": [
    "#this function allow to save a list data in a csv file\n",
    "def save_liste(liste_to_save,file_name):    \n",
    "    size_liste=len(liste_to_save)\n",
    "    file_name=file_name+\".csv\"\n",
    "    \n",
    "    with open(file_name, \"w\") as f_write:\n",
    "        writer = csv.writer(f_write, delimiter=\",\")\n",
    "        writer.writerow((\"id\",\"predicted\"))\n",
    "\n",
    "        for i in range(size_liste):\n",
    "            writer.writerow((i+1,int(liste_to_save[i])))"
   ]
  },
  {
   "cell_type": "markdown",
   "metadata": {},
   "source": [
    "## IMPORTING DATA "
   ]
  },
  {
   "cell_type": "code",
   "execution_count": 4,
   "metadata": {},
   "outputs": [],
   "source": [
    "#load the data\n",
    "train_data=pd.read_csv(\"DATA/CreditTraining.csv\")"
   ]
  },
  {
   "cell_type": "markdown",
   "metadata": {},
   "source": [
    "## TO SEE THE CHARACTERISTICS OF OUR DATA\n",
    "\n",
    "1- Here we display a summary of the characteristics of our data"
   ]
  },
  {
   "cell_type": "code",
   "execution_count": 5,
   "metadata": {},
   "outputs": [
    {
     "name": "stdout",
     "output_type": "stream",
     "text": [
      "        Id_Customer            Y        Customer_Type   BirthDate  \\\n",
      "count   5380.000000  5380.000000                 5380        5380   \n",
      "unique          NaN          NaN                    2        4382   \n",
      "top             NaN          NaN  Non Existing Client  01/01/1973   \n",
      "freq            NaN          NaN                 3369           7   \n",
      "mean    4784.535688     0.073048                  NaN         NaN   \n",
      "std     2781.436262     0.260240                  NaN         NaN   \n",
      "min        1.000000     0.000000                  NaN         NaN   \n",
      "25%     2368.500000     0.000000                  NaN         NaN   \n",
      "50%     4762.500000     0.000000                  NaN         NaN   \n",
      "75%     7180.250000     0.000000                  NaN         NaN   \n",
      "max     9605.000000     1.000000                  NaN         NaN   \n",
      "\n",
      "       Customer_Open_Date   P_Client Educational_Level Marital_Status  \\\n",
      "count                5380       5380              5380           5380   \n",
      "unique               1244          2                 4              5   \n",
      "top            05/12/2011  NP_Client        University        Married   \n",
      "freq                   39       4968              4785           4206   \n",
      "mean                  NaN        NaN               NaN            NaN   \n",
      "std                   NaN        NaN               NaN            NaN   \n",
      "min                   NaN        NaN               NaN            NaN   \n",
      "25%                   NaN        NaN               NaN            NaN   \n",
      "50%                   NaN        NaN               NaN            NaN   \n",
      "75%                   NaN        NaN               NaN            NaN   \n",
      "max                   NaN        NaN               NaN            NaN   \n",
      "\n",
      "        Number_Of_Dependant  Years_At_Residence Net_Annual_Income  \\\n",
      "count           5378.000000         5380.000000              5378   \n",
      "unique                  NaN                 NaN               522   \n",
      "top                     NaN                 NaN                36   \n",
      "freq                    NaN                 NaN              1807   \n",
      "mean               1.058572           12.626022               NaN   \n",
      "std                1.339001            9.972164               NaN   \n",
      "min                0.000000            0.000000               NaN   \n",
      "25%                0.000000            4.000000               NaN   \n",
      "50%                0.000000           10.000000               NaN   \n",
      "75%                2.000000           18.000000               NaN   \n",
      "max               20.000000           70.000000               NaN   \n",
      "\n",
      "        Years_At_Business Prod_Sub_Category Prod_Decision_Date Source  \\\n",
      "count         5378.000000              5380               5380   5380   \n",
      "unique                NaN                 3                276      2   \n",
      "top                   NaN                 C         06/12/2011  Sales   \n",
      "freq                  NaN              4638                 48   4119   \n",
      "mean             4.266270               NaN                NaN    NaN   \n",
      "std              7.225926               NaN                NaN    NaN   \n",
      "min              0.000000               NaN                NaN    NaN   \n",
      "25%              1.000000               NaN                NaN    NaN   \n",
      "50%              1.000000               NaN                NaN    NaN   \n",
      "75%              4.000000               NaN                NaN    NaN   \n",
      "max             98.000000               NaN                NaN    NaN   \n",
      "\n",
      "       Type_Of_Residence  Nb_Of_Products Prod_Closed_Date Prod_Category  \n",
      "count               5380     5380.000000             1174          5380  \n",
      "unique                 5             NaN              331            13  \n",
      "top                Owned             NaN       30/05/2013             B  \n",
      "freq                4791             NaN               98          3176  \n",
      "mean                 NaN        1.089033              NaN           NaN  \n",
      "std                  NaN        0.297587              NaN           NaN  \n",
      "min                  NaN        1.000000              NaN           NaN  \n",
      "25%                  NaN        1.000000              NaN           NaN  \n",
      "50%                  NaN        1.000000              NaN           NaN  \n",
      "75%                  NaN        1.000000              NaN           NaN  \n",
      "max                  NaN        3.000000              NaN           NaN  \n"
     ]
    }
   ],
   "source": [
    "#to see the statistique of the data\n",
    "print(train_data.describe(include=\"all\"))"
   ]
  },
  {
   "cell_type": "markdown",
   "metadata": {},
   "source": [
    "## TO DETERMINATE THE MISSING VALUES\n",
    "1-- We use the isnull function to determine the missing values in the columns\n",
    "\n",
    "2-- In the Prod_closed Date column, there are a lot of missing values and we plan to delete it so we did not consider it necessary to do an isnull with this column"
   ]
  },
  {
   "cell_type": "code",
   "execution_count": 6,
   "metadata": {},
   "outputs": [
    {
     "name": "stdout",
     "output_type": "stream",
     "text": [
      "Empty DataFrame\n",
      "Columns: [Id_Customer, Y, Customer_Type, BirthDate, Customer_Open_Date, P_Client, Educational_Level, Marital_Status, Number_Of_Dependant, Years_At_Residence, Net_Annual_Income, Years_At_Business, Prod_Sub_Category, Prod_Decision_Date, Source, Type_Of_Residence, Nb_Of_Products, Prod_Closed_Date, Prod_Category]\n",
      "Index: []\n"
     ]
    }
   ],
   "source": [
    "print(train_data[train_data[\"Id_Customer\"].isnull()])"
   ]
  },
  {
   "cell_type": "code",
   "execution_count": 7,
   "metadata": {},
   "outputs": [
    {
     "name": "stdout",
     "output_type": "stream",
     "text": [
      "Empty DataFrame\n",
      "Columns: [Id_Customer, Y, Customer_Type, BirthDate, Customer_Open_Date, P_Client, Educational_Level, Marital_Status, Number_Of_Dependant, Years_At_Residence, Net_Annual_Income, Years_At_Business, Prod_Sub_Category, Prod_Decision_Date, Source, Type_Of_Residence, Nb_Of_Products, Prod_Closed_Date, Prod_Category]\n",
      "Index: []\n"
     ]
    }
   ],
   "source": [
    "print(train_data[train_data[\"Y\"].isnull()])"
   ]
  },
  {
   "cell_type": "code",
   "execution_count": 8,
   "metadata": {},
   "outputs": [
    {
     "name": "stdout",
     "output_type": "stream",
     "text": [
      "Empty DataFrame\n",
      "Columns: [Id_Customer, Y, Customer_Type, BirthDate, Customer_Open_Date, P_Client, Educational_Level, Marital_Status, Number_Of_Dependant, Years_At_Residence, Net_Annual_Income, Years_At_Business, Prod_Sub_Category, Prod_Decision_Date, Source, Type_Of_Residence, Nb_Of_Products, Prod_Closed_Date, Prod_Category]\n",
      "Index: []\n"
     ]
    }
   ],
   "source": [
    "print(train_data[train_data[\"Customer_Type\"].isnull()])"
   ]
  },
  {
   "cell_type": "code",
   "execution_count": 9,
   "metadata": {},
   "outputs": [
    {
     "name": "stdout",
     "output_type": "stream",
     "text": [
      "Empty DataFrame\n",
      "Columns: [Id_Customer, Y, Customer_Type, BirthDate, Customer_Open_Date, P_Client, Educational_Level, Marital_Status, Number_Of_Dependant, Years_At_Residence, Net_Annual_Income, Years_At_Business, Prod_Sub_Category, Prod_Decision_Date, Source, Type_Of_Residence, Nb_Of_Products, Prod_Closed_Date, Prod_Category]\n",
      "Index: []\n"
     ]
    }
   ],
   "source": [
    "print(train_data[train_data[\"BirthDate\"].isnull()])"
   ]
  },
  {
   "cell_type": "code",
   "execution_count": 10,
   "metadata": {},
   "outputs": [
    {
     "name": "stdout",
     "output_type": "stream",
     "text": [
      "Empty DataFrame\n",
      "Columns: [Id_Customer, Y, Customer_Type, BirthDate, Customer_Open_Date, P_Client, Educational_Level, Marital_Status, Number_Of_Dependant, Years_At_Residence, Net_Annual_Income, Years_At_Business, Prod_Sub_Category, Prod_Decision_Date, Source, Type_Of_Residence, Nb_Of_Products, Prod_Closed_Date, Prod_Category]\n",
      "Index: []\n"
     ]
    }
   ],
   "source": [
    "print(train_data[train_data[\"Customer_Open_Date\"].isnull()])"
   ]
  },
  {
   "cell_type": "code",
   "execution_count": 11,
   "metadata": {},
   "outputs": [
    {
     "name": "stdout",
     "output_type": "stream",
     "text": [
      "Empty DataFrame\n",
      "Columns: [Id_Customer, Y, Customer_Type, BirthDate, Customer_Open_Date, P_Client, Educational_Level, Marital_Status, Number_Of_Dependant, Years_At_Residence, Net_Annual_Income, Years_At_Business, Prod_Sub_Category, Prod_Decision_Date, Source, Type_Of_Residence, Nb_Of_Products, Prod_Closed_Date, Prod_Category]\n",
      "Index: []\n"
     ]
    }
   ],
   "source": [
    "print(train_data[train_data[\"P_Client\"].isnull()])"
   ]
  },
  {
   "cell_type": "code",
   "execution_count": 12,
   "metadata": {},
   "outputs": [
    {
     "name": "stdout",
     "output_type": "stream",
     "text": [
      "Empty DataFrame\n",
      "Columns: [Id_Customer, Y, Customer_Type, BirthDate, Customer_Open_Date, P_Client, Educational_Level, Marital_Status, Number_Of_Dependant, Years_At_Residence, Net_Annual_Income, Years_At_Business, Prod_Sub_Category, Prod_Decision_Date, Source, Type_Of_Residence, Nb_Of_Products, Prod_Closed_Date, Prod_Category]\n",
      "Index: []\n"
     ]
    }
   ],
   "source": [
    "print(train_data[train_data[\"Educational_Level\"].isnull()])"
   ]
  },
  {
   "cell_type": "code",
   "execution_count": 13,
   "metadata": {},
   "outputs": [
    {
     "name": "stdout",
     "output_type": "stream",
     "text": [
      "Empty DataFrame\n",
      "Columns: [Id_Customer, Y, Customer_Type, BirthDate, Customer_Open_Date, P_Client, Educational_Level, Marital_Status, Number_Of_Dependant, Years_At_Residence, Net_Annual_Income, Years_At_Business, Prod_Sub_Category, Prod_Decision_Date, Source, Type_Of_Residence, Nb_Of_Products, Prod_Closed_Date, Prod_Category]\n",
      "Index: []\n"
     ]
    }
   ],
   "source": [
    "print(train_data[train_data[\"Marital_Status\"].isnull()])"
   ]
  },
  {
   "cell_type": "code",
   "execution_count": 14,
   "metadata": {},
   "outputs": [
    {
     "name": "stdout",
     "output_type": "stream",
     "text": [
      "      Id_Customer  Y    Customer_Type   BirthDate Customer_Open_Date  \\\n",
      "634          8953  1  Existing Client  07/06/1990         20/09/2010   \n",
      "5045         9588  0  Existing Client  05/07/1950         18/09/2004   \n",
      "\n",
      "       P_Client Educational_Level Marital_Status  Number_Of_Dependant  \\\n",
      "634    P_Client        University         Single                  NaN   \n",
      "5045  NP_Client        Master/PhD        Married                  NaN   \n",
      "\n",
      "      Years_At_Residence Net_Annual_Income  Years_At_Business  \\\n",
      "634                   21              33,6                1.0   \n",
      "5045                  10                50               10.0   \n",
      "\n",
      "     Prod_Sub_Category Prod_Decision_Date  Source Type_Of_Residence  \\\n",
      "634                  C         18/04/2012  Branch             Owned   \n",
      "5045                 C         26/04/2012   Sales             Owned   \n",
      "\n",
      "      Nb_Of_Products Prod_Closed_Date Prod_Category  \n",
      "634                2       31/03/2013             G  \n",
      "5045               1              NaN             B  \n"
     ]
    }
   ],
   "source": [
    "print(train_data[train_data[\"Number_Of_Dependant\"].isnull()])"
   ]
  },
  {
   "cell_type": "markdown",
   "metadata": {},
   "source": [
    "NOTE : Here, we observe that we have two missing values in Number_Of_Dependant which concerns the clients of Id_Customer 8953 and 9588"
   ]
  },
  {
   "cell_type": "code",
   "execution_count": 15,
   "metadata": {},
   "outputs": [
    {
     "name": "stdout",
     "output_type": "stream",
     "text": [
      "Empty DataFrame\n",
      "Columns: [Id_Customer, Y, Customer_Type, BirthDate, Customer_Open_Date, P_Client, Educational_Level, Marital_Status, Number_Of_Dependant, Years_At_Residence, Net_Annual_Income, Years_At_Business, Prod_Sub_Category, Prod_Decision_Date, Source, Type_Of_Residence, Nb_Of_Products, Prod_Closed_Date, Prod_Category]\n",
      "Index: []\n"
     ]
    }
   ],
   "source": [
    "print(train_data[train_data[\"Years_At_Residence\"].isnull()])"
   ]
  },
  {
   "cell_type": "code",
   "execution_count": 16,
   "metadata": {},
   "outputs": [
    {
     "name": "stdout",
     "output_type": "stream",
     "text": [
      "      Id_Customer  Y        Customer_Type   BirthDate Customer_Open_Date  \\\n",
      "1879         9399  0  Non Existing Client  16/04/1968         17/04/2012   \n",
      "5144         9555  0  Non Existing Client  15/01/1951         23/04/2012   \n",
      "\n",
      "       P_Client Educational_Level Marital_Status  Number_Of_Dependant  \\\n",
      "1879  NP_Client        University        Married                  0.0   \n",
      "5144  NP_Client        University        Married                  0.0   \n",
      "\n",
      "      Years_At_Residence Net_Annual_Income  Years_At_Business  \\\n",
      "1879                  10               NaN               10.0   \n",
      "5144                  11               NaN                0.0   \n",
      "\n",
      "     Prod_Sub_Category Prod_Decision_Date  Source Type_Of_Residence  \\\n",
      "1879                 C         18/04/2012   Sales             Owned   \n",
      "5144                 C         26/04/2012  Branch          Old rent   \n",
      "\n",
      "      Nb_Of_Products Prod_Closed_Date Prod_Category  \n",
      "1879               1       23/12/2012             B  \n",
      "5144               2       20/01/2013             B  \n"
     ]
    }
   ],
   "source": [
    "print(train_data[train_data[\"Net_Annual_Income\"].isnull()])"
   ]
  },
  {
   "cell_type": "markdown",
   "metadata": {},
   "source": [
    "NOTE : Here, we observe that we have two missing values in Net_Annual_Income which concerns the clients of Id_Customer 9399 and 9555"
   ]
  },
  {
   "cell_type": "code",
   "execution_count": 17,
   "metadata": {},
   "outputs": [
    {
     "name": "stdout",
     "output_type": "stream",
     "text": [
      "      Id_Customer  Y        Customer_Type   BirthDate Customer_Open_Date  \\\n",
      "1987          398  0  Non Existing Client  14/05/1984         19/05/2011   \n",
      "2750         5882  0  Non Existing Client  08/08/1981         14/12/2011   \n",
      "\n",
      "       P_Client Educational_Level Marital_Status  Number_Of_Dependant  \\\n",
      "1987  NP_Client        Master/PhD         Single                  0.0   \n",
      "2750  NP_Client        University        Married                  0.0   \n",
      "\n",
      "      Years_At_Residence Net_Annual_Income  Years_At_Business  \\\n",
      "1987                  10                25                NaN   \n",
      "2750                   2               108                NaN   \n",
      "\n",
      "     Prod_Sub_Category Prod_Decision_Date  Source Type_Of_Residence  \\\n",
      "1987                 C         26/05/2011  Branch             Owned   \n",
      "2750                 C         27/12/2011  Branch             Owned   \n",
      "\n",
      "      Nb_Of_Products Prod_Closed_Date Prod_Category  \n",
      "1987               2       16/10/2012             D  \n",
      "2750               1              NaN             B  \n"
     ]
    }
   ],
   "source": [
    "print(train_data[train_data[\"Years_At_Business\"].isnull()])"
   ]
  },
  {
   "cell_type": "markdown",
   "metadata": {},
   "source": [
    "NOTE : Here, we observe that we have two missing values in Number_Of_Dependant which concerns the clients of Id_Customer 398 and 5882"
   ]
  },
  {
   "cell_type": "code",
   "execution_count": 18,
   "metadata": {},
   "outputs": [
    {
     "name": "stdout",
     "output_type": "stream",
     "text": [
      "Empty DataFrame\n",
      "Columns: [Id_Customer, Y, Customer_Type, BirthDate, Customer_Open_Date, P_Client, Educational_Level, Marital_Status, Number_Of_Dependant, Years_At_Residence, Net_Annual_Income, Years_At_Business, Prod_Sub_Category, Prod_Decision_Date, Source, Type_Of_Residence, Nb_Of_Products, Prod_Closed_Date, Prod_Category]\n",
      "Index: []\n"
     ]
    }
   ],
   "source": [
    "print(train_data[train_data[\"Prod_Sub_Category\"].isnull()])"
   ]
  },
  {
   "cell_type": "code",
   "execution_count": 19,
   "metadata": {},
   "outputs": [
    {
     "name": "stdout",
     "output_type": "stream",
     "text": [
      "Empty DataFrame\n",
      "Columns: [Id_Customer, Y, Customer_Type, BirthDate, Customer_Open_Date, P_Client, Educational_Level, Marital_Status, Number_Of_Dependant, Years_At_Residence, Net_Annual_Income, Years_At_Business, Prod_Sub_Category, Prod_Decision_Date, Source, Type_Of_Residence, Nb_Of_Products, Prod_Closed_Date, Prod_Category]\n",
      "Index: []\n"
     ]
    }
   ],
   "source": [
    "print(train_data[train_data[\"Prod_Decision_Date\"].isnull()])"
   ]
  },
  {
   "cell_type": "code",
   "execution_count": 20,
   "metadata": {},
   "outputs": [
    {
     "name": "stdout",
     "output_type": "stream",
     "text": [
      "Empty DataFrame\n",
      "Columns: [Id_Customer, Y, Customer_Type, BirthDate, Customer_Open_Date, P_Client, Educational_Level, Marital_Status, Number_Of_Dependant, Years_At_Residence, Net_Annual_Income, Years_At_Business, Prod_Sub_Category, Prod_Decision_Date, Source, Type_Of_Residence, Nb_Of_Products, Prod_Closed_Date, Prod_Category]\n",
      "Index: []\n"
     ]
    }
   ],
   "source": [
    "print(train_data[train_data[\"Source\"].isnull()])"
   ]
  },
  {
   "cell_type": "code",
   "execution_count": 21,
   "metadata": {},
   "outputs": [
    {
     "name": "stdout",
     "output_type": "stream",
     "text": [
      "Empty DataFrame\n",
      "Columns: [Id_Customer, Y, Customer_Type, BirthDate, Customer_Open_Date, P_Client, Educational_Level, Marital_Status, Number_Of_Dependant, Years_At_Residence, Net_Annual_Income, Years_At_Business, Prod_Sub_Category, Prod_Decision_Date, Source, Type_Of_Residence, Nb_Of_Products, Prod_Closed_Date, Prod_Category]\n",
      "Index: []\n"
     ]
    }
   ],
   "source": [
    "print(train_data[train_data[\"Type_Of_Residence\"].isnull()])"
   ]
  },
  {
   "cell_type": "code",
   "execution_count": 22,
   "metadata": {},
   "outputs": [
    {
     "name": "stdout",
     "output_type": "stream",
     "text": [
      "Empty DataFrame\n",
      "Columns: [Id_Customer, Y, Customer_Type, BirthDate, Customer_Open_Date, P_Client, Educational_Level, Marital_Status, Number_Of_Dependant, Years_At_Residence, Net_Annual_Income, Years_At_Business, Prod_Sub_Category, Prod_Decision_Date, Source, Type_Of_Residence, Nb_Of_Products, Prod_Closed_Date, Prod_Category]\n",
      "Index: []\n"
     ]
    }
   ],
   "source": [
    "print(train_data[train_data[\"Nb_Of_Products\"].isnull()])"
   ]
  },
  {
   "cell_type": "code",
   "execution_count": 23,
   "metadata": {},
   "outputs": [
    {
     "name": "stdout",
     "output_type": "stream",
     "text": [
      "Empty DataFrame\n",
      "Columns: [Id_Customer, Y, Customer_Type, BirthDate, Customer_Open_Date, P_Client, Educational_Level, Marital_Status, Number_Of_Dependant, Years_At_Residence, Net_Annual_Income, Years_At_Business, Prod_Sub_Category, Prod_Decision_Date, Source, Type_Of_Residence, Nb_Of_Products, Prod_Closed_Date, Prod_Category]\n",
      "Index: []\n"
     ]
    }
   ],
   "source": [
    "print(train_data[train_data[\"Prod_Category\"].isnull()])"
   ]
  },
  {
   "cell_type": "markdown",
   "metadata": {},
   "source": [
    "## FOR VISUALISATION THE CATEGORICIAL VARIABLE\n",
    "1--  these functions are used to determine the values ​​that quanlitative variables can take and to determine their proportions in the data"
   ]
  },
  {
   "cell_type": "code",
   "execution_count": 24,
   "metadata": {},
   "outputs": [
    {
     "data": {
      "text/plain": [
       "Non Existing Client    3369\n",
       "Existing Client        2011\n",
       "Name: Customer_Type, dtype: int64"
      ]
     },
     "metadata": {},
     "output_type": "display_data"
    }
   ],
   "source": [
    "display(train_data.Customer_Type.value_counts())"
   ]
  },
  {
   "cell_type": "code",
   "execution_count": 25,
   "metadata": {},
   "outputs": [
    {
     "data": {
      "text/plain": [
       "NP_Client    4968\n",
       "P_Client      412\n",
       "Name: P_Client, dtype: int64"
      ]
     },
     "metadata": {},
     "output_type": "display_data"
    }
   ],
   "source": [
    "display(train_data.P_Client.value_counts())"
   ]
  },
  {
   "cell_type": "code",
   "execution_count": 26,
   "metadata": {},
   "outputs": [
    {
     "data": {
      "text/plain": [
       "University           4785\n",
       "Master/PhD            522\n",
       "Diploma                58\n",
       "Secondary or Less      15\n",
       "Name: Educational_Level, dtype: int64"
      ]
     },
     "metadata": {},
     "output_type": "display_data"
    }
   ],
   "source": [
    "display(train_data.Educational_Level.value_counts())"
   ]
  },
  {
   "cell_type": "code",
   "execution_count": 27,
   "metadata": {},
   "outputs": [
    {
     "data": {
      "text/plain": [
       "Married      4206\n",
       "Single       1046\n",
       "Widowed        64\n",
       "Divorced       63\n",
       "Separated       1\n",
       "Name: Marital_Status, dtype: int64"
      ]
     },
     "metadata": {},
     "output_type": "display_data"
    }
   ],
   "source": [
    "display(train_data.Marital_Status.value_counts())"
   ]
  },
  {
   "cell_type": "code",
   "execution_count": 28,
   "metadata": {},
   "outputs": [
    {
     "data": {
      "text/plain": [
       "C    4638\n",
       "G     624\n",
       "P     118\n",
       "Name: Prod_Sub_Category, dtype: int64"
      ]
     },
     "metadata": {},
     "output_type": "display_data"
    }
   ],
   "source": [
    "display(train_data.Prod_Sub_Category.value_counts())"
   ]
  },
  {
   "cell_type": "code",
   "execution_count": 29,
   "metadata": {},
   "outputs": [
    {
     "data": {
      "text/plain": [
       "Sales     4119\n",
       "Branch    1261\n",
       "Name: Source, dtype: int64"
      ]
     },
     "metadata": {},
     "output_type": "display_data"
    }
   ],
   "source": [
    "display(train_data.Source.value_counts())"
   ]
  },
  {
   "cell_type": "code",
   "execution_count": 30,
   "metadata": {},
   "outputs": [
    {
     "data": {
      "text/plain": [
       "Owned       4791\n",
       "Old rent     323\n",
       "Parents      179\n",
       "New rent      83\n",
       "Company        4\n",
       "Name: Type_Of_Residence, dtype: int64"
      ]
     },
     "metadata": {},
     "output_type": "display_data"
    }
   ],
   "source": [
    "display(train_data.Type_Of_Residence.value_counts())"
   ]
  },
  {
   "cell_type": "code",
   "execution_count": 31,
   "metadata": {},
   "outputs": [
    {
     "data": {
      "text/plain": [
       "B    3176\n",
       "D     670\n",
       "C     517\n",
       "K     265\n",
       "L     236\n",
       "G     188\n",
       "E     101\n",
       "H      79\n",
       "J      71\n",
       "M      49\n",
       "A      19\n",
       "F       5\n",
       "I       4\n",
       "Name: Prod_Category, dtype: int64"
      ]
     },
     "metadata": {},
     "output_type": "display_data"
    }
   ],
   "source": [
    "display(train_data.Prod_Category.value_counts())"
   ]
  },
  {
   "cell_type": "markdown",
   "metadata": {},
   "source": [
    "# <center> PREPROCESSING DATA  </center>#\n",
    "\n",
    "1-- This function takes as argument a pandas dataframe containing our data in csv file and does the necessary preprocessing by returning an array numpy and a label which will be used by our classification algorithms. To do this function, do the following processing.\n",
    "\n",
    "2-- The first thing we do is delete the Prod_Closed_date column because this column has a lot of missing data and therefore no method of replacing missing data can be effective on this column.\n",
    "\n",
    "3-- As we have just two missing data in the Number_Of_dependance column, we preferred not to delete the two rows presenting the missing data by preferring to replace the missing data with the value 0 which is a value present in the column chosen at random.\n",
    "\n",
    "4-- We used the same principle for missing data in the other columns (Net_Annual_Income, Years_At_Business)\n",
    "\n",
    "5-- Then, we transformed all our qualitative variables into numerical value because it is easier to handle for our algorithms.\n",
    "\n",
    "6-- We transform all dates in an array where we have the day in a column, the month in other column and the year in a column.\n",
    "\n",
    "7-- We then removed the columns presenting the qualitative variables which we no longer need.\n",
    "\n",
    "8-- We have extracted the column Y representing the label for the classification.\n",
    "\n",
    "9-- The Net_Annual_income column has badly written values. In the file they used a digital writing with the French comma (,) that the machine does not understand so we made the necessary manipulation to have values understandable by the machine.\n",
    "\n",
    "10-- We have removed the Separated, Company, I and F columns (obtained after transforming the qualitative variables into a quantitative variable) because they are not very interesting and have little impact on the results.\n",
    "\n",
    "11-- Finally we transform the pandas datafram into a numpy array which will be returned by our function"
   ]
  },
  {
   "cell_type": "code",
   "execution_count": 32,
   "metadata": {},
   "outputs": [],
   "source": [
    "def Feature_Engineering(train_data):\n",
    "    \"\"\"We use this function to do the preprocessing of the datas\"\"\"\n",
    "    \n",
    "    #We deleted the line Prod_Closed_Date because this line has a very high number of empty boxes to affect the result of the prediction\n",
    "    del train_data[\"Prod_Closed_Date\"]\n",
    "\n",
    "    #We replace the missing data in the empty Number_of_dependant field with 0 chosen at random to complete these two fields\n",
    "    train_data.Number_Of_Dependant.fillna(0,inplace=True)\n",
    "    \n",
    "    #We replace the missing data in the empty Net_Annual_Income field with 36 chosen at random to complete these two fields\n",
    "    train_data.Net_Annual_Income.fillna(36,inplace=True)\n",
    "    \n",
    "    #We replace the missing data in the empty Years_At_Business field with 1 chosen at random to complete these two fields\n",
    "    train_data.Years_At_Business.fillna(1,inplace=True)\n",
    "    \n",
    "    #We transform all categoricial variable in an numerical value it is easier than other algorithm\n",
    "    test = pd.get_dummies(train_data.Customer_Type)\n",
    "    train_data[\"Existing_Client_yes\"]=test[\"Existing Client\"]\n",
    "    \n",
    "    test = pd.get_dummies(train_data.P_Client)\n",
    "    train_data[\"P_Client_Yes\"]=test[\"P_Client\"]\n",
    "    \n",
    "    test = pd.get_dummies(train_data.Educational_Level)\n",
    "    train_data=train_data.join(test)\n",
    "    \n",
    "    test = pd.get_dummies(train_data.Marital_Status)\n",
    "    train_data=train_data.join(test)\n",
    "    \n",
    "    test = pd.get_dummies(train_data.Prod_Sub_Category)\n",
    "    train_data[\"Prod_Sub_Category_C\"]=test[\"C\"]\n",
    "    train_data[\"Prod_Sub_Category_G\"]=test[\"G\"]\n",
    "    train_data[\"Prod_Sub_Category_P\"]=test[\"P\"]\n",
    "    \n",
    "    test = pd.get_dummies(train_data.Source)\n",
    "    train_data[\"Sales_Yes\"]=test[\"Sales\"]\n",
    "    \n",
    "    test = pd.get_dummies(train_data.Type_Of_Residence)\n",
    "    train_data=train_data.join(test)\n",
    "    \n",
    "    test = pd.get_dummies(train_data.Prod_Category)\n",
    "    train_data=train_data.join(test)\n",
    "    \n",
    "    \n",
    "    #We transform all dates in an array where we have the day in a column, the month in other column and the year in a column \n",
    "    train_data[\"BirthDate\"]=pd.to_datetime(train_data[\"BirthDate\"])  \n",
    "    train_data[\"BirthDate_day\"] = train_data[\"BirthDate\"].dt.day\n",
    "    train_data[\"BirthDate_month\"] = train_data[\"BirthDate\"].dt.month\n",
    "    train_data[\"BirthDate_year\"] = train_data[\"BirthDate\"].dt.year\n",
    "    \n",
    "    train_data[\"Customer_Open_Date\"]=pd.to_datetime(train_data[\"Customer_Open_Date\"])  \n",
    "    train_data[\"Customer_Open_Date_day\"] = train_data[\"Customer_Open_Date\"].dt.day\n",
    "    train_data[\"Customer_Open_Date_month\"] = train_data[\"Customer_Open_Date\"].dt.month\n",
    "    train_data[\"Customer_Open_Date_year\"] = train_data[\"Customer_Open_Date\"].dt.year\n",
    "    \n",
    "    train_data[\"Prod_Decision_Date\"]=pd.to_datetime(train_data[\"Prod_Decision_Date\"])  \n",
    "    train_data[\"Prod_Decision_Date_day\"] = train_data[\"Prod_Decision_Date\"].dt.day\n",
    "    train_data[\"Prod_Decision_Date_month\"] = train_data[\"Prod_Decision_Date\"].dt.month\n",
    "    train_data[\"Prod_Decision_Date_year\"] = train_data[\"Prod_Decision_Date\"].dt.year\n",
    "    \n",
    "    \n",
    "    #delete the not necessary variable\n",
    "    del train_data[\"Id_Customer\"]\n",
    "    del train_data[\"Customer_Type\"]\n",
    "    del train_data[\"BirthDate\"]\n",
    "    del train_data[\"Customer_Open_Date\"]\n",
    "    del train_data[\"P_Client\"]\n",
    "    del train_data[\"Educational_Level\"]\n",
    "    del train_data[\"Marital_Status\"]\n",
    "    del train_data[\"Prod_Sub_Category\"]\n",
    "    del train_data[\"Prod_Decision_Date\"]\n",
    "    del train_data[\"Source\"]\n",
    "    del train_data[\"Type_Of_Residence\"]\n",
    "    del train_data[\"Prod_Category\"]\n",
    "   \n",
    "    #transforme data after processing in numpy array with label for differentes algorithm\n",
    "    Label=train_data.Y.values\n",
    "\n",
    "    #del train_data[\"Secondary or Less\"]\n",
    "    del train_data[\"Separated\"]\n",
    "    del train_data[\"Company\"]\n",
    "    del train_data[\"Y\"]\n",
    "    del train_data[\"I\"]\n",
    "    del train_data[\"F\"]   \n",
    "    #del train_data[\"A\"]\n",
    "    \n",
    "    #transforme dataframe in array numpy\n",
    "    Array_data=train_data.values\n",
    "    \n",
    "    #manipulation necessary for Net_annual_Income colomn\n",
    "    for i in range(np.shape(Array_data)[0]):\n",
    "        if(type(Array_data[i, 2])!=type(1)):\n",
    "            if(Array_data[i, 2].isdigit()==True):\n",
    "                Array_data[i, 2]=float(Array_data[i, 2])\n",
    "            else:\n",
    "                kk=Array_data[i, 2]\n",
    "                kk1=kk[0:kk.find(',')]\n",
    "                kk2=kk[kk.find(',')+1:len(kk)]\n",
    "                Array_data[i, 2]=(1/(10**len(kk2)))*float(kk2)+float(kk1)\n",
    "    \n",
    "    return Array_data,Label"
   ]
  },
  {
   "cell_type": "markdown",
   "metadata": {},
   "source": [
    "# <center> PREDICTION ALGORITHM </center> #\n",
    "\n",
    "# 1-- we have implemented several classification algorithms. The goal is to determine which is the best algorithm.\n",
    "# 2-- For each algorithm, we determined the execution time and we built a graph which gives the precision graph as a function of the number of parameters\n",
    "# 3-- To train our prediction algorithms, we split the data into 2 parts: 70% for training the data and 30% for testing the data.\n"
   ]
  },
  {
   "cell_type": "markdown",
   "metadata": {},
   "source": [
    "# BAGGING CLASSIFIER #\n"
   ]
  },
  {
   "cell_type": "code",
   "execution_count": 33,
   "metadata": {},
   "outputs": [
    {
     "name": "stdout",
     "output_type": "stream",
     "text": [
      "\n",
      " Time taken: 0 hours 2 minutes and 26.38 seconds.\n"
     ]
    }
   ],
   "source": [
    "#load datalassifier \n",
    "train_data=pd.read_csv(\"DATA/CreditTraining.csv\")\n",
    "\n",
    "#preprocessing Data\n",
    "train_data_preprocessing, Y_train_data_preprocessing=Feature_Engineering(train_data)\n",
    "\n",
    "#to divide data to training and testing data\n",
    "DATA_node_train_preprocessing, DATA_node_test_preprocessing, Y_node_train_preprocessing, Y_node_test_preprocessing= train_test_split(train_data_preprocessing, Y_train_data_preprocessing, test_size=0.3, random_state=10)\n",
    "\n",
    "\n",
    "#TRAINING THE MODEL FOR A LOT OF PARAMETER\n",
    "#for trace the graph\n",
    "accuracy_BaggingClassifier=[]\n",
    "parameter_BaggingClassifier=[]\n",
    "\n",
    "#for obtain the best caracteristique\n",
    "max_acc=0.0\n",
    "rate=0.0\n",
    "estimator=0\n",
    "\n",
    "start_time = timer(None)\n",
    "for i in range(100):\n",
    "    parameter_BaggingClassifier.append(i+1)\n",
    "    bagging = BaggingClassifier(n_estimators=i+1)\n",
    "    #training the bagging model\n",
    "    bagging.fit(DATA_node_train_preprocessing, Y_node_train_preprocessing)\n",
    "    #testing model\n",
    "    prediction_= bagging.predict(DATA_node_test_preprocessing)\n",
    "    #calculate accuracy\n",
    "    acc=accuracy_score(Y_node_test_preprocessing,prediction_)\n",
    "    if(acc>max_acc):\n",
    "        max_acc=acc\n",
    "        rate=0.02\n",
    "        estimator=i+1\n",
    "    accuracy_BaggingClassifier.append(acc)\n",
    "timer(start_time)"
   ]
  },
  {
   "cell_type": "code",
   "execution_count": 34,
   "metadata": {},
   "outputs": [
    {
     "data": {
      "image/png": "[encoded data removed]",
      "text/plain": [
       "<Figure size 432x288 with 1 Axes>"
      ]
     },
     "metadata": {
      "needs_background": "light"
     },
     "output_type": "display_data"
    },
    {
     "name": "stdout",
     "output_type": "stream",
     "text": [
      "MAX ACCURACY== 0.9213135068153655     OBTAIN WITH learning_rate== 0.02      and n_estimators== 34\n"
     ]
    }
   ],
   "source": [
    "#BUILD THE GRAPH\n",
    "X=np.array(parameter_BaggingClassifier)\n",
    "Y=np.array(accuracy_BaggingClassifier)\n",
    "plt.plot(X, Y, 'r')\n",
    "plt.xlabel('NUMBER OF PARAMETERS')\n",
    "plt.ylabel('ACCURACY')\n",
    "plt.title('GRAPH')\n",
    "plt.show()\n",
    "print(\"MAX ACCURACY==\",max_acc,\"    OBTAIN WITH learning_rate==\",rate,\"     and n_estimators==\",estimator)"
   ]
  },
  {
   "cell_type": "markdown",
   "metadata": {},
   "source": [
    "## CONCLUSION : With the bagging algorithm, we used a large number of weak learners who constitute the parameters of our models. We used a number between 1 and 100. The result is visible in this curve and we think that the obtained accuracy is satisfactory, on the other hand the time necessary to train and to test our model is rather high compare to the other algorithms."
   ]
  },
  {
   "cell_type": "markdown",
   "metadata": {},
   "source": [
    "# XGB CLASSIFIER #"
   ]
  },
  {
   "cell_type": "code",
   "execution_count": 39,
   "metadata": {},
   "outputs": [
    {
     "name": "stdout",
     "output_type": "stream",
     "text": [
      "\n",
      " Time taken: 0 hours 0 minutes and 18.1 seconds.\n"
     ]
    }
   ],
   "source": [
    "#load data\n",
    "train_data=pd.read_csv(\"DATA/CreditTraining.csv\")\n",
    "\n",
    "#preprocessing Data\n",
    "train_data_preprocessing, Y_train_data_preprocessing=Feature_Engineering(train_data)\n",
    "\n",
    "#to divide data to training and testing data\n",
    "DATA_node_train_preprocessing, DATA_node_test_preprocessing, Y_node_train_preprocessing, Y_node_test_preprocessing= train_test_split(train_data_preprocessing, Y_train_data_preprocessing, test_size=0.3, random_state=42)\n",
    "\n",
    "\n",
    "#TRAINING THE MODEL FOR A LOT OF PARAMETER\n",
    "#for trace the graph\n",
    "accuracy_xgb=[]\n",
    "parameter_xgb=[]\n",
    "\n",
    "#for obtain the best caracteristique\n",
    "max_acc=0.0\n",
    "rate=0.0\n",
    "estimator=0\n",
    "\n",
    "start_time = timer(None)\n",
    "for i in range(100):\n",
    "    parameter_xgb.append(i+1)\n",
    "    xgb_clf = XGBClassifier(n_estimators=i+1)\n",
    "    #training the xgb model\n",
    "    xgb_clf.fit(DATA_node_train_preprocessing, Y_node_train_preprocessing)\n",
    "    #testing model\n",
    "    prediction_= xgb_clf.predict(DATA_node_test_preprocessing)\n",
    "    #calculate accuracy\n",
    "    acc=accuracy_score(Y_node_test_preprocessing,prediction_)\n",
    "    if(acc>max_acc):\n",
    "        max_acc=acc\n",
    "        rate=0.02\n",
    "        estimator=i+1\n",
    "    accuracy_xgb.append(acc)\n",
    "timer(start_time)"
   ]
  },
  {
   "cell_type": "code",
   "execution_count": 40,
   "metadata": {},
   "outputs": [
    {
     "data": {
      "image/png": "[encoded data removed]",
      "text/plain": [
       "<Figure size 432x288 with 1 Axes>"
      ]
     },
     "metadata": {
      "needs_background": "light"
     },
     "output_type": "display_data"
    },
    {
     "name": "stdout",
     "output_type": "stream",
     "text": [
      "MAX ACCURACY== 0.9182156133828996      and n_estimators== 2\n"
     ]
    }
   ],
   "source": [
    "#BUILD THE GRAPH\n",
    "X=np.array(parameter_xgb)\n",
    "Y=np.array(accuracy_xgb)\n",
    "plt.plot(X, Y, 'r')\n",
    "plt.xlabel('NUMBER OF PARAMETERS')\n",
    "plt.ylabel('ACCURACY')\n",
    "plt.title('GRAPH')\n",
    "plt.show()\n",
    "print(\"MAX ACCURACY==\",max_acc,\"     and n_estimators==\",estimator)"
   ]
  },
  {
   "cell_type": "markdown",
   "metadata": {},
   "source": [
    "## CONCLUSION: With the xgb algorithm, we used a large number of weak learners who constitute the parameters of our models. We used a number between 1 and 200. The result is visible on this curve and we think that the precision obtained is satisfactory and the execution time is also acceptable, therefore we will use this model to make cross- validation."
   ]
  },
  {
   "cell_type": "markdown",
   "metadata": {},
   "source": [
    "# RANDOM FOREST #"
   ]
  },
  {
   "cell_type": "code",
   "execution_count": 41,
   "metadata": {},
   "outputs": [
    {
     "name": "stdout",
     "output_type": "stream",
     "text": [
      "\n",
      " Time taken: 0 hours 0 minutes and 18.59 seconds.\n"
     ]
    }
   ],
   "source": [
    "#load data\n",
    "train_data=pd.read_csv(\"DATA/CreditTraining.csv\")\n",
    "\n",
    "#preprocessing Data\n",
    "train_data_preprocessing, Y_train_data_preprocessing=Feature_Engineering(train_data)\n",
    "\n",
    "#to divide data to training and testing data\n",
    "DATA_node_train_preprocessing, DATA_node_test_preprocessing, Y_node_train_preprocessing, Y_node_test_preprocessing= train_test_split(train_data_preprocessing, Y_train_data_preprocessing, test_size=0.3, random_state=10)\n",
    "\n",
    "\n",
    "#TRAINING THE MODEL FOR A LOT OF PARAMETER\n",
    "#for trace the graph\n",
    "accuracy_random_forest=[]\n",
    "parameter_random_forest=[]\n",
    "\n",
    "#for obtain the best caracteristique\n",
    "max_acc=0.0\n",
    "rate=0.0\n",
    "estimator=0\n",
    "\n",
    "start_time = timer(None)\n",
    "for i in range(100):\n",
    "    parameter_random_forest.append(i+1)\n",
    "    rfc = RandomForestClassifier(n_estimators=i+1)\n",
    "    #training the random forest model\n",
    "    model = rfc.fit(DATA_node_train_preprocessing, Y_node_train_preprocessing)    \n",
    "    #testing model\n",
    "    prediction_= rfc.predict(DATA_node_test_preprocessing)\n",
    "    #calculate accuracy\n",
    "    acc=accuracy_score(Y_node_test_preprocessing,prediction_)\n",
    "    if(acc>max_acc):\n",
    "        max_acc=acc\n",
    "        rate=0.02\n",
    "        estimator=i+1\n",
    "    accuracy_random_forest.append(acc)\n",
    "timer(start_time)"
   ]
  },
  {
   "cell_type": "code",
   "execution_count": 42,
   "metadata": {},
   "outputs": [
    {
     "data": {
      "image/png": "[encoded data removed]",
      "text/plain": [
       "<Figure size 432x288 with 1 Axes>"
      ]
     },
     "metadata": {
      "needs_background": "light"
     },
     "output_type": "display_data"
    },
    {
     "name": "stdout",
     "output_type": "stream",
     "text": [
      "  MAX ACCURACY== 0.9237918215613383      and n_estimators== 30\n"
     ]
    }
   ],
   "source": [
    "#BUILD THE GRAPH\n",
    "X=np.array(parameter_random_forest)\n",
    "Y=np.array(accuracy_random_forest)\n",
    "plt.plot(X, Y, 'r')\n",
    "plt.xlabel('NUMBER OF PARAMETERS')\n",
    "plt.ylabel('ACCURACY')\n",
    "plt.title('GRAPH')\n",
    "plt.show()\n",
    "print(\"  MAX ACCURACY==\",max_acc,\"     and n_estimators==\",estimator)"
   ]
  },
  {
   "cell_type": "markdown",
   "metadata": {},
   "source": [
    "## CONCLUSION: With the random forest algorithm, we used a large number of weak learners who constitute the parameters of our models. We used a number between 1 and 100. The result is visible on this curve and we think that the precision obtained is satisfactory and that the execution time is also acceptable, we will therefore use this model to perform a cross validation."
   ]
  },
  {
   "cell_type": "markdown",
   "metadata": {},
   "source": [
    "## K-NEAREST NEIGHBORS ALGORITHM"
   ]
  },
  {
   "cell_type": "code",
   "execution_count": 43,
   "metadata": {},
   "outputs": [
    {
     "name": "stdout",
     "output_type": "stream",
     "text": [
      "\n",
      " Time taken: 0 hours 0 minutes and 30.15 seconds.\n"
     ]
    }
   ],
   "source": [
    "#load data\n",
    "train_data=pd.read_csv(\"DATA/CreditTraining.csv\")\n",
    "\n",
    "#preprocessing Data\n",
    "train_data_preprocessing, Y_train_data_preprocessing=Feature_Engineering(train_data)\n",
    "\n",
    "#to divide data to training and testing data\n",
    "DATA_node_train_preprocessing, DATA_node_test_preprocessing, Y_node_train_preprocessing, Y_node_test_preprocessing= train_test_split(train_data_preprocessing, Y_train_data_preprocessing, test_size=0.3, random_state=10)\n",
    "\n",
    "#TRAINING THE MODEL FOR A LOT OF PARAMETER\n",
    "#for trace the graph\n",
    "accuracy_knn=[]\n",
    "parameter_knn=[]\n",
    "\n",
    "#for obtain the best caracteristique\n",
    "max_acc=0.0\n",
    "estimator=0\n",
    "\n",
    "start_time = timer(None)\n",
    "for i in range(100):\n",
    "    parameter_knn.append(i+1)\n",
    "    knn = KNeighborsClassifier(n_neighbors = i+1)\n",
    "    #training the knn model\n",
    "    model = knn.fit(DATA_node_train_preprocessing, Y_node_train_preprocessing)    \n",
    "    #testing model\n",
    "    prediction_= knn.predict(DATA_node_test_preprocessing)\n",
    "    #calculate accuracy\n",
    "    acc=accuracy_score(Y_node_test_preprocessing,prediction_)\n",
    "    if(acc>max_acc):\n",
    "        max_acc=acc\n",
    "        estimator=i+1\n",
    "    accuracy_knn.append(acc)\n",
    "timer(start_time)"
   ]
  },
  {
   "cell_type": "code",
   "execution_count": 44,
   "metadata": {},
   "outputs": [
    {
     "data": {
      "image/png": "[encoded data removed]",
      "text/plain": [
       "<Figure size 432x288 with 1 Axes>"
      ]
     },
     "metadata": {
      "needs_background": "light"
     },
     "output_type": "display_data"
    },
    {
     "name": "stdout",
     "output_type": "stream",
     "text": [
      "  MAX ACCURACY== 0.9231722428748451      and n_estimators== 10\n"
     ]
    }
   ],
   "source": [
    "#BUILD THE GRAPH\n",
    "X=np.array(parameter_knn)\n",
    "Y=np.array(accuracy_knn)\n",
    "plt.plot(X, Y, 'r')\n",
    "plt.xlabel('NUMBER OF PARAMETERS')\n",
    "plt.ylabel('ACCURACY')\n",
    "plt.title('KNN GRAPH')\n",
    "plt.show()\n",
    "print(\"  MAX ACCURACY==\",max_acc,\"     and n_estimators==\",estimator)"
   ]
  },
  {
   "cell_type": "markdown",
   "metadata": {},
   "source": [
    "## CONCLUSION: For the Knn algorithm, we have a very high speed of execution during the training of the model: therefore ideal for be used in cross-validation. We used a low number of learners between 1 and 100. The result is visible on this curve and we think that the precision obtained is satisfactory."
   ]
  },
  {
   "cell_type": "markdown",
   "metadata": {},
   "source": [
    "## ARTIFICIAL NEURAL NETWORK "
   ]
  },
  {
   "cell_type": "code",
   "execution_count": 45,
   "metadata": {},
   "outputs": [
    {
     "name": "stderr",
     "output_type": "stream",
     "text": [
      "Using TensorFlow backend.\n"
     ]
    },
    {
     "name": "stdout",
     "output_type": "stream",
     "text": [
      "WARNING:tensorflow:From /home/panongbene/anaconda3/lib/python3.7/site-packages/tensorflow/python/ops/nn_impl.py:180: add_dispatch_support.<locals>.wrapper (from tensorflow.python.ops.array_ops) is deprecated and will be removed in a future version.\n",
      "Instructions for updating:\n",
      "Use tf.where in 2.0, which has the same broadcast rule as np.where\n",
      "WARNING:tensorflow:From /home/panongbene/anaconda3/lib/python3.7/site-packages/keras/backend/tensorflow_backend.py:422: The name tf.global_variables is deprecated. Please use tf.compat.v1.global_variables instead.\n",
      "\n",
      "Epoch 1/150\n",
      "3766/3766 [==============================] - 0s 87us/step - loss: 1.1836 - accuracy: 0.0714\n",
      "Epoch 2/150\n",
      "3766/3766 [==============================] - 0s 27us/step - loss: 0.9729 - accuracy: 0.0714\n",
      "Epoch 3/150\n",
      "3766/3766 [==============================] - 0s 27us/step - loss: 0.8197 - accuracy: 0.0714\n",
      "Epoch 4/150\n",
      "3766/3766 [==============================] - 0s 28us/step - loss: 0.7137 - accuracy: 0.3149\n",
      "Epoch 5/150\n",
      "3766/3766 [==============================] - 0s 28us/step - loss: 0.6352 - accuracy: 0.9286\n",
      "Epoch 6/150\n",
      "3766/3766 [==============================] - 0s 28us/step - loss: 0.5723 - accuracy: 0.9286\n",
      "Epoch 7/150\n",
      "3766/3766 [==============================] - 0s 29us/step - loss: 0.5190 - accuracy: 0.9286\n",
      "Epoch 8/150\n",
      "3766/3766 [==============================] - 0s 27us/step - loss: 0.4741 - accuracy: 0.9286\n",
      "Epoch 9/150\n",
      "3766/3766 [==============================] - 0s 27us/step - loss: 0.4368 - accuracy: 0.9286\n",
      "Epoch 10/150\n",
      "3766/3766 [==============================] - 0s 27us/step - loss: 0.4069 - accuracy: 0.9286\n",
      "Epoch 11/150\n",
      "3766/3766 [==============================] - 0s 30us/step - loss: 0.3830 - accuracy: 0.9286\n",
      "Epoch 12/150\n",
      "3766/3766 [==============================] - 0s 27us/step - loss: 0.3638 - accuracy: 0.9286\n",
      "Epoch 13/150\n",
      "3766/3766 [==============================] - 0s 31us/step - loss: 0.3481 - accuracy: 0.9286\n",
      "Epoch 14/150\n",
      "3766/3766 [==============================] - 0s 31us/step - loss: 0.3350 - accuracy: 0.9286\n",
      "Epoch 15/150\n",
      "3766/3766 [==============================] - 0s 28us/step - loss: 0.3242 - accuracy: 0.9286\n",
      "Epoch 16/150\n",
      "3766/3766 [==============================] - 0s 28us/step - loss: 0.3150 - accuracy: 0.9286\n",
      "Epoch 17/150\n",
      "3766/3766 [==============================] - 0s 29us/step - loss: 0.3072 - accuracy: 0.9286\n",
      "Epoch 18/150\n",
      "3766/3766 [==============================] - 0s 31us/step - loss: 0.3005 - accuracy: 0.9286\n",
      "Epoch 19/150\n",
      "3766/3766 [==============================] - 0s 33us/step - loss: 0.2949 - accuracy: 0.9286\n",
      "Epoch 20/150\n",
      "3766/3766 [==============================] - 0s 31us/step - loss: 0.2899 - accuracy: 0.9286\n",
      "Epoch 21/150\n",
      "3766/3766 [==============================] - 0s 31us/step - loss: 0.2857 - accuracy: 0.9286\n",
      "Epoch 22/150\n",
      "3766/3766 [==============================] - 0s 30us/step - loss: 0.2820 - accuracy: 0.9286\n",
      "Epoch 23/150\n",
      "3766/3766 [==============================] - 0s 30us/step - loss: 0.2788 - accuracy: 0.9286\n",
      "Epoch 24/150\n",
      "3766/3766 [==============================] - 0s 32us/step - loss: 0.2760 - accuracy: 0.9286\n",
      "Epoch 25/150\n",
      "3766/3766 [==============================] - 0s 30us/step - loss: 0.2736 - accuracy: 0.9286\n",
      "Epoch 26/150\n",
      "3766/3766 [==============================] - 0s 30us/step - loss: 0.2715 - accuracy: 0.9286\n",
      "Epoch 27/150\n",
      "3766/3766 [==============================] - 0s 33us/step - loss: 0.2696 - accuracy: 0.9286\n",
      "Epoch 28/150\n",
      "3766/3766 [==============================] - 0s 28us/step - loss: 0.2680 - accuracy: 0.9286\n",
      "Epoch 29/150\n",
      "3766/3766 [==============================] - 0s 34us/step - loss: 0.2666 - accuracy: 0.9286\n",
      "Epoch 30/150\n",
      "3766/3766 [==============================] - 0s 32us/step - loss: 0.2654 - accuracy: 0.9286\n",
      "Epoch 31/150\n",
      "3766/3766 [==============================] - 0s 30us/step - loss: 0.2643 - accuracy: 0.9286\n",
      "Epoch 32/150\n",
      "3766/3766 [==============================] - 0s 30us/step - loss: 0.2634 - accuracy: 0.9286\n",
      "Epoch 33/150\n",
      "3766/3766 [==============================] - 0s 28us/step - loss: 0.2626 - accuracy: 0.9286\n",
      "Epoch 34/150\n",
      "3766/3766 [==============================] - 0s 33us/step - loss: 0.2619 - accuracy: 0.9286\n",
      "Epoch 35/150\n",
      "3766/3766 [==============================] - 0s 33us/step - loss: 0.2612 - accuracy: 0.9286\n",
      "Epoch 36/150\n",
      "3766/3766 [==============================] - 0s 29us/step - loss: 0.2607 - accuracy: 0.9286\n",
      "Epoch 37/150\n",
      "3766/3766 [==============================] - 0s 32us/step - loss: 0.2602 - accuracy: 0.9286\n",
      "Epoch 38/150\n",
      "3766/3766 [==============================] - 0s 31us/step - loss: 0.2598 - accuracy: 0.9286\n",
      "Epoch 39/150\n",
      "3766/3766 [==============================] - 0s 31us/step - loss: 0.2595 - accuracy: 0.9286\n",
      "Epoch 40/150\n",
      "3766/3766 [==============================] - 0s 29us/step - loss: 0.2591 - accuracy: 0.9286\n",
      "Epoch 41/150\n",
      "3766/3766 [==============================] - 0s 28us/step - loss: 0.2589 - accuracy: 0.9286\n",
      "Epoch 42/150\n",
      "3766/3766 [==============================] - 0s 30us/step - loss: 0.2587 - accuracy: 0.9286\n",
      "Epoch 43/150\n",
      "3766/3766 [==============================] - 0s 29us/step - loss: 0.2584 - accuracy: 0.9286\n",
      "Epoch 44/150\n",
      "3766/3766 [==============================] - 0s 29us/step - loss: 0.2583 - accuracy: 0.9286\n",
      "Epoch 45/150\n",
      "3766/3766 [==============================] - 0s 30us/step - loss: 0.2581 - accuracy: 0.9286\n",
      "Epoch 46/150\n",
      "3766/3766 [==============================] - 0s 28us/step - loss: 0.2580 - accuracy: 0.9286\n",
      "Epoch 47/150\n",
      "3766/3766 [==============================] - 0s 27us/step - loss: 0.2579 - accuracy: 0.9286\n",
      "Epoch 48/150\n",
      "3766/3766 [==============================] - 0s 31us/step - loss: 0.2578 - accuracy: 0.9286\n",
      "Epoch 49/150\n",
      "3766/3766 [==============================] - 0s 26us/step - loss: 0.2577 - accuracy: 0.9286\n",
      "Epoch 50/150\n",
      "3766/3766 [==============================] - 0s 29us/step - loss: 0.2577 - accuracy: 0.9286\n",
      "Epoch 51/150\n",
      "3766/3766 [==============================] - 0s 30us/step - loss: 0.2576 - accuracy: 0.9286\n",
      "Epoch 52/150\n",
      "3766/3766 [==============================] - 0s 27us/step - loss: 0.2576 - accuracy: 0.9286\n",
      "Epoch 53/150\n",
      "3766/3766 [==============================] - 0s 25us/step - loss: 0.2575 - accuracy: 0.9286\n",
      "Epoch 54/150\n",
      "3766/3766 [==============================] - 0s 25us/step - loss: 0.2575 - accuracy: 0.9286\n",
      "Epoch 55/150\n",
      "3766/3766 [==============================] - 0s 26us/step - loss: 0.2575 - accuracy: 0.9286\n",
      "Epoch 56/150\n",
      "3766/3766 [==============================] - 0s 28us/step - loss: 0.2574 - accuracy: 0.9286\n",
      "Epoch 57/150\n",
      "3766/3766 [==============================] - 0s 27us/step - loss: 0.2574 - accuracy: 0.9286\n",
      "Epoch 58/150\n",
      "3766/3766 [==============================] - 0s 26us/step - loss: 0.2574 - accuracy: 0.9286\n",
      "Epoch 59/150\n",
      "3766/3766 [==============================] - 0s 27us/step - loss: 0.2574 - accuracy: 0.9286\n",
      "Epoch 60/150\n",
      "3766/3766 [==============================] - 0s 26us/step - loss: 0.2574 - accuracy: 0.9286\n",
      "Epoch 61/150\n",
      "3766/3766 [==============================] - 0s 27us/step - loss: 0.2574 - accuracy: 0.9286\n",
      "Epoch 62/150\n",
      "3766/3766 [==============================] - 0s 27us/step - loss: 0.2574 - accuracy: 0.9286\n",
      "Epoch 63/150\n",
      "3766/3766 [==============================] - 0s 27us/step - loss: 0.2574 - accuracy: 0.9286\n",
      "Epoch 64/150\n",
      "3766/3766 [==============================] - 0s 24us/step - loss: 0.2573 - accuracy: 0.9286\n",
      "Epoch 65/150\n",
      "3766/3766 [==============================] - 0s 26us/step - loss: 0.2574 - accuracy: 0.9286\n",
      "Epoch 66/150\n",
      "3766/3766 [==============================] - 0s 26us/step - loss: 0.2573 - accuracy: 0.9286\n",
      "Epoch 67/150\n",
      "3766/3766 [==============================] - 0s 27us/step - loss: 0.2573 - accuracy: 0.9286\n",
      "Epoch 68/150\n",
      "3766/3766 [==============================] - 0s 26us/step - loss: 0.2573 - accuracy: 0.9286\n",
      "Epoch 69/150\n",
      "3766/3766 [==============================] - 0s 26us/step - loss: 0.2573 - accuracy: 0.9286\n",
      "Epoch 70/150\n",
      "3766/3766 [==============================] - 0s 27us/step - loss: 0.2573 - accuracy: 0.9286\n",
      "Epoch 71/150\n",
      "3766/3766 [==============================] - 0s 26us/step - loss: 0.2573 - accuracy: 0.9286\n",
      "Epoch 72/150\n",
      "3766/3766 [==============================] - 0s 25us/step - loss: 0.2573 - accuracy: 0.9286\n",
      "Epoch 73/150\n"
     ]
    },
    {
     "name": "stdout",
     "output_type": "stream",
     "text": [
      "3766/3766 [==============================] - 0s 25us/step - loss: 0.2573 - accuracy: 0.9286\n",
      "Epoch 74/150\n",
      "3766/3766 [==============================] - 0s 27us/step - loss: 0.2573 - accuracy: 0.9286\n",
      "Epoch 75/150\n",
      "3766/3766 [==============================] - 0s 28us/step - loss: 0.2573 - accuracy: 0.9286\n",
      "Epoch 76/150\n",
      "3766/3766 [==============================] - 0s 27us/step - loss: 0.2573 - accuracy: 0.9286\n",
      "Epoch 77/150\n",
      "3766/3766 [==============================] - 0s 27us/step - loss: 0.2573 - accuracy: 0.9286\n",
      "Epoch 78/150\n",
      "3766/3766 [==============================] - 0s 26us/step - loss: 0.2573 - accuracy: 0.9286\n",
      "Epoch 79/150\n",
      "3766/3766 [==============================] - 0s 29us/step - loss: 0.2573 - accuracy: 0.9286\n",
      "Epoch 80/150\n",
      "3766/3766 [==============================] - 0s 27us/step - loss: 0.2573 - accuracy: 0.9286\n",
      "Epoch 81/150\n",
      "3766/3766 [==============================] - 0s 27us/step - loss: 0.2573 - accuracy: 0.9286\n",
      "Epoch 82/150\n",
      "3766/3766 [==============================] - 0s 27us/step - loss: 0.2573 - accuracy: 0.9286\n",
      "Epoch 83/150\n",
      "3766/3766 [==============================] - 0s 30us/step - loss: 0.2573 - accuracy: 0.9286\n",
      "Epoch 84/150\n",
      "3766/3766 [==============================] - 0s 26us/step - loss: 0.2573 - accuracy: 0.9286\n",
      "Epoch 85/150\n",
      "3766/3766 [==============================] - 0s 26us/step - loss: 0.2574 - accuracy: 0.9286\n",
      "Epoch 86/150\n",
      "3766/3766 [==============================] - 0s 26us/step - loss: 0.2573 - accuracy: 0.9286\n",
      "Epoch 87/150\n",
      "3766/3766 [==============================] - 0s 26us/step - loss: 0.2573 - accuracy: 0.9286\n",
      "Epoch 88/150\n",
      "3766/3766 [==============================] - 0s 27us/step - loss: 0.2573 - accuracy: 0.9286\n",
      "Epoch 89/150\n",
      "3766/3766 [==============================] - 0s 27us/step - loss: 0.2573 - accuracy: 0.9286\n",
      "Epoch 90/150\n",
      "3766/3766 [==============================] - 0s 25us/step - loss: 0.2573 - accuracy: 0.9286\n",
      "Epoch 91/150\n",
      "3766/3766 [==============================] - 0s 31us/step - loss: 0.2573 - accuracy: 0.9286\n",
      "Epoch 92/150\n",
      "3766/3766 [==============================] - 0s 31us/step - loss: 0.2573 - accuracy: 0.9286\n",
      "Epoch 93/150\n",
      "3766/3766 [==============================] - 0s 29us/step - loss: 0.2573 - accuracy: 0.9286\n",
      "Epoch 94/150\n",
      "3766/3766 [==============================] - 0s 30us/step - loss: 0.2573 - accuracy: 0.9286\n",
      "Epoch 95/150\n",
      "3766/3766 [==============================] - 0s 29us/step - loss: 0.2573 - accuracy: 0.9286\n",
      "Epoch 96/150\n",
      "3766/3766 [==============================] - 0s 31us/step - loss: 0.2573 - accuracy: 0.9286\n",
      "Epoch 97/150\n",
      "3766/3766 [==============================] - 0s 30us/step - loss: 0.2573 - accuracy: 0.9286\n",
      "Epoch 98/150\n",
      "3766/3766 [==============================] - 0s 32us/step - loss: 0.2573 - accuracy: 0.9286\n",
      "Epoch 99/150\n",
      "3766/3766 [==============================] - 0s 31us/step - loss: 0.2573 - accuracy: 0.9286\n",
      "Epoch 100/150\n",
      "3766/3766 [==============================] - 0s 28us/step - loss: 0.2573 - accuracy: 0.9286\n",
      "Epoch 101/150\n",
      "3766/3766 [==============================] - 0s 29us/step - loss: 0.2573 - accuracy: 0.9286\n",
      "Epoch 102/150\n",
      "3766/3766 [==============================] - 0s 31us/step - loss: 0.2573 - accuracy: 0.9286\n",
      "Epoch 103/150\n",
      "3766/3766 [==============================] - 0s 27us/step - loss: 0.2573 - accuracy: 0.9286\n",
      "Epoch 104/150\n",
      "3766/3766 [==============================] - 0s 31us/step - loss: 0.2573 - accuracy: 0.9286\n",
      "Epoch 105/150\n",
      "3766/3766 [==============================] - 0s 29us/step - loss: 0.2573 - accuracy: 0.9286\n",
      "Epoch 106/150\n",
      "3766/3766 [==============================] - 0s 31us/step - loss: 0.2573 - accuracy: 0.9286\n",
      "Epoch 107/150\n",
      "3766/3766 [==============================] - 0s 30us/step - loss: 0.2573 - accuracy: 0.9286\n",
      "Epoch 108/150\n",
      "3766/3766 [==============================] - 0s 28us/step - loss: 0.2573 - accuracy: 0.9286\n",
      "Epoch 109/150\n",
      "3766/3766 [==============================] - 0s 28us/step - loss: 0.2573 - accuracy: 0.9286\n",
      "Epoch 110/150\n",
      "3766/3766 [==============================] - 0s 31us/step - loss: 0.2573 - accuracy: 0.9286\n",
      "Epoch 111/150\n",
      "3766/3766 [==============================] - 0s 33us/step - loss: 0.2574 - accuracy: 0.9286\n",
      "Epoch 112/150\n",
      "3766/3766 [==============================] - 0s 28us/step - loss: 0.2574 - accuracy: 0.9286\n",
      "Epoch 113/150\n",
      "3766/3766 [==============================] - 0s 29us/step - loss: 0.2573 - accuracy: 0.9286\n",
      "Epoch 114/150\n",
      "3766/3766 [==============================] - 0s 29us/step - loss: 0.2573 - accuracy: 0.9286\n",
      "Epoch 115/150\n",
      "3766/3766 [==============================] - 0s 33us/step - loss: 0.2573 - accuracy: 0.9286\n",
      "Epoch 116/150\n",
      "3766/3766 [==============================] - 0s 27us/step - loss: 0.2573 - accuracy: 0.9286\n",
      "Epoch 117/150\n",
      "3766/3766 [==============================] - 0s 29us/step - loss: 0.2573 - accuracy: 0.9286\n",
      "Epoch 118/150\n",
      "3766/3766 [==============================] - 0s 26us/step - loss: 0.2573 - accuracy: 0.9286\n",
      "Epoch 119/150\n",
      "3766/3766 [==============================] - 0s 28us/step - loss: 0.2573 - accuracy: 0.9286\n",
      "Epoch 120/150\n",
      "3766/3766 [==============================] - 0s 29us/step - loss: 0.2573 - accuracy: 0.9286\n",
      "Epoch 121/150\n",
      "3766/3766 [==============================] - 0s 26us/step - loss: 0.2573 - accuracy: 0.9286\n",
      "Epoch 122/150\n",
      "3766/3766 [==============================] - 0s 27us/step - loss: 0.2573 - accuracy: 0.9286\n",
      "Epoch 123/150\n",
      "3766/3766 [==============================] - 0s 31us/step - loss: 0.2573 - accuracy: 0.9286\n",
      "Epoch 124/150\n",
      "3766/3766 [==============================] - 0s 33us/step - loss: 0.2573 - accuracy: 0.9286\n",
      "Epoch 125/150\n",
      "3766/3766 [==============================] - 0s 31us/step - loss: 0.2573 - accuracy: 0.9286\n",
      "Epoch 126/150\n",
      "3766/3766 [==============================] - 0s 31us/step - loss: 0.2574 - accuracy: 0.9286\n",
      "Epoch 127/150\n",
      "3766/3766 [==============================] - 0s 32us/step - loss: 0.2573 - accuracy: 0.9286\n",
      "Epoch 128/150\n",
      "3766/3766 [==============================] - 0s 28us/step - loss: 0.2573 - accuracy: 0.9286\n",
      "Epoch 129/150\n",
      "3766/3766 [==============================] - 0s 29us/step - loss: 0.2573 - accuracy: 0.9286\n",
      "Epoch 130/150\n",
      "3766/3766 [==============================] - 0s 30us/step - loss: 0.2573 - accuracy: 0.9286\n",
      "Epoch 131/150\n",
      "3766/3766 [==============================] - 0s 28us/step - loss: 0.2573 - accuracy: 0.9286\n",
      "Epoch 132/150\n",
      "3766/3766 [==============================] - 0s 27us/step - loss: 0.2574 - accuracy: 0.9286\n",
      "Epoch 133/150\n",
      "3766/3766 [==============================] - 0s 27us/step - loss: 0.2574 - accuracy: 0.9286\n",
      "Epoch 134/150\n",
      "3766/3766 [==============================] - 0s 26us/step - loss: 0.2574 - accuracy: 0.9286\n",
      "Epoch 135/150\n",
      "3766/3766 [==============================] - 0s 32us/step - loss: 0.2574 - accuracy: 0.9286\n",
      "Epoch 136/150\n",
      "3766/3766 [==============================] - 0s 25us/step - loss: 0.2573 - accuracy: 0.9286\n",
      "Epoch 137/150\n",
      "3766/3766 [==============================] - 0s 28us/step - loss: 0.2573 - accuracy: 0.9286\n",
      "Epoch 138/150\n",
      "3766/3766 [==============================] - 0s 28us/step - loss: 0.2573 - accuracy: 0.9286\n",
      "Epoch 139/150\n",
      "3766/3766 [==============================] - 0s 26us/step - loss: 0.2573 - accuracy: 0.9286\n",
      "Epoch 140/150\n",
      "3766/3766 [==============================] - 0s 28us/step - loss: 0.2574 - accuracy: 0.9286\n",
      "Epoch 141/150\n",
      "3766/3766 [==============================] - 0s 30us/step - loss: 0.2573 - accuracy: 0.9286\n",
      "Epoch 142/150\n",
      "3766/3766 [==============================] - 0s 29us/step - loss: 0.2573 - accuracy: 0.9286\n",
      "Epoch 143/150\n",
      "3766/3766 [==============================] - 0s 29us/step - loss: 0.2574 - accuracy: 0.9286\n",
      "Epoch 144/150\n",
      "3766/3766 [==============================] - 0s 27us/step - loss: 0.2574 - accuracy: 0.9286\n",
      "Epoch 145/150\n",
      "3766/3766 [==============================] - 0s 28us/step - loss: 0.2573 - accuracy: 0.9286\n",
      "Epoch 146/150\n",
      "3766/3766 [==============================] - 0s 27us/step - loss: 0.2573 - accuracy: 0.9286\n",
      "Epoch 147/150\n",
      "3766/3766 [==============================] - 0s 29us/step - loss: 0.2573 - accuracy: 0.9286\n",
      "Epoch 148/150\n",
      "3766/3766 [==============================] - 0s 32us/step - loss: 0.2573 - accuracy: 0.9286\n",
      "Epoch 149/150\n",
      "3766/3766 [==============================] - 0s 28us/step - loss: 0.2573 - accuracy: 0.9286\n",
      "Epoch 150/150\n"
     ]
    },
    {
     "name": "stdout",
     "output_type": "stream",
     "text": [
      "3766/3766 [==============================] - 0s 26us/step - loss: 0.2573 - accuracy: 0.9286\n"
     ]
    }
   ],
   "source": [
    "#load data\n",
    "train_data=pd.read_csv(\"DATA/CreditTraining.csv\")\n",
    "\n",
    "#preprocessing Data\n",
    "train_data_preprocessing, Y_train_data_preprocessing=Feature_Engineering(train_data)\n",
    "\n",
    "#to divide data to training and testing data\n",
    "DATA_node_train_preprocessing, DATA_node_test_preprocessing, Y_node_train_preprocessing, Y_node_test_preprocessing= train_test_split(train_data_preprocessing, Y_train_data_preprocessing, test_size=0.3, random_state=10)\n",
    "\n",
    "#TRAINING THE MODEL FOR A LOT OF PARAMETER\n",
    "#for trace the graph\n",
    "accuracy_ANN=[]\n",
    "parameter_ANN=[]\n",
    "\n",
    "#keras\n",
    "from keras.models import Sequential\n",
    "from keras.layers import Dense\n",
    "\n",
    "#create the artificial neural network\n",
    "Artificial_NN = Sequential()\n",
    "\n",
    "#we create the layer of our model\n",
    "Artificial_NN.add(Dense(units=30,input_dim=43,activation=\"sigmoid\"))\n",
    "Artificial_NN.add(Dense(units=20,input_dim=30,activation=\"sigmoid\"))\n",
    "Artificial_NN.add(Dense(units=10,input_dim=20,activation=\"sigmoid\"))\n",
    "Artificial_NN.add(Dense(units=5,input_dim=10,activation=\"sigmoid\"))\n",
    "Artificial_NN.add(Dense(units=1,input_dim=5,activation=\"sigmoid\"))\n",
    "\n",
    "#Compilation our ANN\n",
    "Artificial_NN.compile(loss=\"binary_crossentropy\",optimizer=\"adam\",metrics=[\"accuracy\"])\n",
    "\n",
    "#Training model\n",
    "Artificial_NN.fit(DATA_node_train_preprocessing, Y_node_train_preprocessing, epochs=150, batch_size=100)\n",
    "\n",
    "#Prediction\n",
    "prediction_ = Artificial_NN.predict_classes(DATA_node_test_preprocessing)\n",
    "\n",
    "#accuracy\n",
    "accuracy0=accuracy_score(Y_node_test_preprocessing,prediction_)"
   ]
  },
  {
   "cell_type": "code",
   "execution_count": 48,
   "metadata": {},
   "outputs": [
    {
     "name": "stdout",
     "output_type": "stream",
     "text": [
      "ACCURACY=  0.9231722428748451\n"
     ]
    }
   ],
   "source": [
    "#Print Accuracy\n",
    "print(\"ACCURACY= \",accuracy0)"
   ]
  },
  {
   "cell_type": "markdown",
   "metadata": {},
   "source": [
    "## CONCLUSION : For neural networks, the execution time is very high but the performances are rather very good for an acceptable number of layers and perceptron."
   ]
  },
  {
   "cell_type": "markdown",
   "metadata": {},
   "source": [
    "## SUPPORT VECTOR MACHINE "
   ]
  },
  {
   "cell_type": "code",
   "execution_count": 49,
   "metadata": {},
   "outputs": [
    {
     "name": "stdout",
     "output_type": "stream",
     "text": [
      "\n",
      " Time taken: 0 hours 2 minutes and 32.02 seconds.\n"
     ]
    }
   ],
   "source": [
    "#load data\n",
    "train_data=pd.read_csv(\"DATA/CreditTraining.csv\")\n",
    "\n",
    "#preprocessing Data\n",
    "train_data_preprocessing, Y_train_data_preprocessing=Feature_Engineering(train_data)\n",
    "\n",
    "#to divide data to training and testing data\n",
    "DATA_node_train_preprocessing, DATA_node_test_preprocessing, Y_node_train_preprocessing, Y_node_test_preprocessing= train_test_split(train_data_preprocessing, Y_train_data_preprocessing, test_size=0.3, random_state=10)\n",
    "\n",
    "#TRAINING THE MODEL FOR A LOT OF PARAMETER\n",
    "#for trace the graph\n",
    "accuracy_svm=[]\n",
    "parameter_svm=[]\n",
    "\n",
    "\n",
    "#for obtain the best caracteristique\n",
    "max_acc=0.0\n",
    "estimator=0\n",
    "\n",
    "start_time = timer(None)\n",
    "for i in range(100):\n",
    "    parameter_svm.append(i+1)\n",
    "    svm_ = svm.SVC(kernel='rbf', gamma=(0.01)*(i+1))#Gaussian kernel\n",
    "    #svm = SVC(kernel='poly', degree=i+1)#polynomial kernel\n",
    "    #svm =  = SVC(kernel='linear')#linear kernel\n",
    "    #training the knn model\n",
    "    model = svm_.fit(DATA_node_train_preprocessing, Y_node_train_preprocessing)    \n",
    "    #testing model\n",
    "    prediction_= svm_.predict(DATA_node_test_preprocessing)\n",
    "    #calculate accuracy\n",
    "    acc=accuracy_score(Y_node_test_preprocessing,prediction_)\n",
    "    if(acc>max_acc):\n",
    "        max_acc=acc\n",
    "        estimator=i+1\n",
    "    accuracy_svm.append(acc)\n",
    "timer(start_time)"
   ]
  },
  {
   "cell_type": "code",
   "execution_count": 50,
   "metadata": {},
   "outputs": [
    {
     "data": {
      "image/png": "[encoded data removed]",
      "text/plain": [
       "<Figure size 432x288 with 1 Axes>"
      ]
     },
     "metadata": {
      "needs_background": "light"
     },
     "output_type": "display_data"
    },
    {
     "name": "stdout",
     "output_type": "stream",
     "text": [
      "  MAX ACCURACY== 0.9231722428748451      and n_estimators== 1\n"
     ]
    }
   ],
   "source": [
    "#BUILD THE GRAPH\n",
    "X=np.array(parameter_svm)\n",
    "Y=np.array(accuracy_svm)\n",
    "plt.plot(X, Y, 'r')\n",
    "plt.xlabel('NUMBER OF PARAMETERS')\n",
    "plt.ylabel('ACCURACY')\n",
    "plt.title('SVM GRAPH')\n",
    "plt.show()\n",
    "print(\"  MAX ACCURACY==\",max_acc,\"     and n_estimators==\",estimator)"
   ]
  },
  {
   "cell_type": "markdown",
   "metadata": {},
   "source": [
    "# <center> CROSS VALIDATION </center> #\n",
    "1-- The models below use the cross-validation technique with some of the prediction algorithms (knn, random forest, xgb) already implemented previously. We have kept these algorithms for their speed which we need for cross validation.\n",
    "\n",
    "2-- Recall that cross validation consists of cutting our data set into k parts (k-folds) and in turn, we use the k-1 part for training and the last part for the test. This will allow us to use all of our data set to train and test the model.\n",
    "\n",
    "3-- To do this, we set the parameters of the prediction algorithm and we varied the number of partitions we made (k-fold)\n",
    "\n",
    "4-- To fix the good parameters of the prediction algorithms, we fixed the number of k-fold and made the evolution of the parameters of the prediction algorithms by studying the curve giving the accuracy according to the parameters of prediction algorithms.\n",
    "\n"
   ]
  },
  {
   "cell_type": "markdown",
   "metadata": {},
   "source": [
    "## CROSS-VALIDATION KNN"
   ]
  },
  {
   "cell_type": "code",
   "execution_count": 67,
   "metadata": {},
   "outputs": [
    {
     "name": "stdout",
     "output_type": "stream",
     "text": [
      "\n",
      " Time taken: 0 hours 0 minutes and 26.17 seconds.\n"
     ]
    }
   ],
   "source": [
    "#load data\n",
    "train_data=pd.read_csv(\"DATA/CreditTraining.csv\")\n",
    "\n",
    "#preprocessing Data\n",
    "train_data_preprocessing, Y_train_data_preprocessing=Feature_Engineering(train_data)\n",
    "\n",
    "#TRAINING THE MODEL FOR A LOT OF PARAMETER\n",
    "#for trace the graph\n",
    "accuracy_knn_fold=[]\n",
    "parameter_knn_fold=[]\n",
    "\n",
    "#for obtain the best caracteristique\n",
    "max_acc=0.0\n",
    "estimator=0\n",
    "#the knn model\n",
    "knn_fold = KNeighborsClassifier(n_neighbors = 101)\n",
    "\n",
    "start_time = timer(None)\n",
    "for i in [1,5,10,50,100,150,200]:\n",
    "    parameter_knn_fold.append(i+1)\n",
    "    #create knn model\n",
    "    #knn_fold = KNeighborsClassifier(n_neighbors = i+1)\n",
    "    #cross validation model\n",
    "    knn_fold_scores = cross_val_score(knn_fold, train_data_preprocessing, Y_train_data_preprocessing, cv=i+1, scoring='accuracy')\n",
    "    #calculate accuracy\n",
    "    acc=knn_fold_scores.max()\n",
    "    if(acc>max_acc):\n",
    "        max_acc=acc\n",
    "        estimator=i+1\n",
    "    accuracy_knn_fold.append(acc)\n",
    "timer(start_time)"
   ]
  },
  {
   "cell_type": "code",
   "execution_count": 68,
   "metadata": {},
   "outputs": [
    {
     "data": {
      "image/png": "[encoded data removed]",
      "text/plain": [
       "<Figure size 432x288 with 1 Axes>"
      ]
     },
     "metadata": {
      "needs_background": "light"
     },
     "output_type": "display_data"
    },
    {
     "name": "stdout",
     "output_type": "stream",
     "text": [
      "  MAX ACCURACY== 0.96      and n_estimators== 201\n"
     ]
    }
   ],
   "source": [
    "#BUILD THE GRAPH\n",
    "X=np.array(parameter_knn_fold)\n",
    "Y=np.array(accuracy_knn_fold)\n",
    "plt.plot(X, Y, 'r')\n",
    "plt.xlabel('NUMBER OF FOLD')\n",
    "plt.ylabel('ACCURACY')\n",
    "plt.title('KNN K-FOLD CROSS-VALIDATION GRAPH')\n",
    "plt.show()\n",
    "print(\"  MAX ACCURACY==\",max_acc,\"     and n_estimators==\",estimator)"
   ]
  },
  {
   "cell_type": "markdown",
   "metadata": {},
   "source": [
    "## CONCLUSION : By using cross validation on the data set with the KNN prediction algorithm with the parameter k = 101, we see that we obtain very good precision in an acceptable time."
   ]
  },
  {
   "cell_type": "markdown",
   "metadata": {},
   "source": [
    "# CROSS VALIDATION WITH XGB CLASSIFIER #"
   ]
  },
  {
   "cell_type": "code",
   "execution_count": 71,
   "metadata": {},
   "outputs": [
    {
     "name": "stdout",
     "output_type": "stream",
     "text": [
      "\n",
      " Time taken: 1 hours 3 minutes and 30.35 seconds.\n"
     ]
    }
   ],
   "source": [
    "#load data\n",
    "train_data=pd.read_csv(\"DATA/CreditTraining.csv\")\n",
    "\n",
    "#preprocessing Data\n",
    "train_data_preprocessing, Y_train_data_preprocessing=Feature_Engineering(train_data)\n",
    "\n",
    "#TRAINING THE MODEL FOR A LOT OF PARAMETER\n",
    "#for trace the graph\n",
    "accuracy_xgb_cross=[]\n",
    "parameter_xgb_cross=[]\n",
    "\n",
    "#for obtain the best caracteristique\n",
    "max_acc=0.0\n",
    "estimator=0\n",
    "\n",
    "#the xgb model\n",
    "xgb_cross = XGBClassifier(n_estimators=900)\n",
    "\n",
    "start_time = timer(None)\n",
    "for i in [1,5,10,50,100,150,200,250,300]:\n",
    "    parameter_xgb_cross.append(i+1)\n",
    "    #create knn model\n",
    "    #xgb_cross = XGBClassifier(n_estimators=i+1)\n",
    "    #cross validation model\n",
    "    xgb_cross_scores = cross_val_score(xgb_cross, train_data_preprocessing, Y_train_data_preprocessing, cv=i+1, scoring='accuracy')\n",
    "    #calculate accuracy\n",
    "    acc=xgb_cross_scores.max()\n",
    "    if(acc>max_acc):\n",
    "        max_acc=acc\n",
    "        estimator=i+1\n",
    "    accuracy_xgb_cross.append(acc)\n",
    "timer(start_time)"
   ]
  },
  {
   "cell_type": "code",
   "execution_count": 72,
   "metadata": {},
   "outputs": [
    {
     "data": {
      "image/png": "[encoded data removed]",
      "text/plain": [
       "<Figure size 432x288 with 1 Axes>"
      ]
     },
     "metadata": {
      "needs_background": "light"
     },
     "output_type": "display_data"
    },
    {
     "name": "stdout",
     "output_type": "stream",
     "text": [
      "  MAX ACCURACY== 1.0      and n_estimators== 201\n"
     ]
    }
   ],
   "source": [
    "#BUILD THE GRAPH\n",
    "X=np.array(parameter_xgb_cross)\n",
    "Y=np.array(accuracy_xgb_cross)\n",
    "plt.plot(X, Y, 'r')\n",
    "plt.xlabel('NUMBER OF FOLDS')\n",
    "plt.ylabel('ACCURACY')\n",
    "plt.title('XGB CROSS-VALIDATION GRAPH')\n",
    "plt.show()\n",
    "print(\"  MAX ACCURACY==\",max_acc,\"     and n_estimators==\",estimator)"
   ]
  },
  {
   "cell_type": "markdown",
   "metadata": {},
   "source": [
    "## CONCLUSION : Using the xgb algorithm with cross validation, we have good accuracy but we need a lot of time to train the algorithm"
   ]
  },
  {
   "cell_type": "markdown",
   "metadata": {},
   "source": [
    "# CROSS VALIDATION WITH RANDOM FOREST #"
   ]
  },
  {
   "cell_type": "code",
   "execution_count": 69,
   "metadata": {},
   "outputs": [
    {
     "name": "stdout",
     "output_type": "stream",
     "text": [
      "\n",
      " Time taken: 0 hours 30 minutes and 57.24 seconds.\n"
     ]
    }
   ],
   "source": [
    "#load data\n",
    "train_data=pd.read_csv(\"DATA/CreditTraining.csv\")\n",
    "\n",
    "#preprocessing Data\n",
    "train_data_preprocessing, Y_train_data_preprocessing=Feature_Engineering(train_data)\n",
    "\n",
    "#TRAINING THE MODEL FOR A LOT OF PARAMETER\n",
    "#for trace the graph\n",
    "accuracy_rfc_cross=[]\n",
    "parameter_rfc_cross=[]\n",
    "\n",
    "#for obtain the best caracteristique\n",
    "max_acc=0.0\n",
    "estimator=0\n",
    "\n",
    "#the random forest model\n",
    "rfc_cross = XGBClassifier(n_estimators=900)\n",
    "\n",
    "start_time = timer(None)\n",
    "for i in [1,5,10,50,100,150,200]:\n",
    "    parameter_rfc_cross.append(i+1)\n",
    "    #create knn model\n",
    "    #rfc_cross = XGBClassifier(n_estimators=i+1)\n",
    "    #cross validation model\n",
    "    rfc_cross_scores = cross_val_score(rfc_cross, train_data_preprocessing, Y_train_data_preprocessing, cv=i+1, scoring='accuracy')\n",
    "    #calculate accuracy\n",
    "    acc=rfc_cross_scores.max()\n",
    "    if(acc>max_acc):\n",
    "        max_acc=acc\n",
    "        estimator=i+1\n",
    "    accuracy_rfc_cross.append(acc)\n",
    "timer(start_time)"
   ]
  },
  {
   "cell_type": "code",
   "execution_count": 70,
   "metadata": {},
   "outputs": [
    {
     "data": {
      "image/png": "[encoded data removed]",
      "text/plain": [
       "<Figure size 432x288 with 1 Axes>"
      ]
     },
     "metadata": {
      "needs_background": "light"
     },
     "output_type": "display_data"
    },
    {
     "name": "stdout",
     "output_type": "stream",
     "text": [
      "  MAX ACCURACY== 1.0      and n_estimators== 201\n"
     ]
    }
   ],
   "source": [
    "#BUILD THE GRAPH\n",
    "X=np.array(parameter_rfc_cross)\n",
    "Y=np.array(accuracy_rfc_cross)\n",
    "plt.plot(X, Y, 'r')\n",
    "plt.xlabel('NUMBER OF FOLDS')\n",
    "plt.ylabel('ACCURACY')\n",
    "plt.title('RANDOM FOREST CROSS-VALIDATION GRAPH')\n",
    "plt.show()\n",
    "print(\"  MAX ACCURACY==\",max_acc,\"     and n_estimators==\",estimator)"
   ]
  },
  {
   "cell_type": "markdown",
   "metadata": {},
   "source": [
    "## CONCLUSION : As for the xgb algorithm with cross validation, using the random forest prediction algorithm with a sufficient number of parameters and K-folds, we obtain very good accuracy but the learning time is very long."
   ]
  },
  {
   "cell_type": "markdown",
   "metadata": {},
   "source": [
    "# <center> CONCLUSION </center> #\n",
    "## From the study carried out above, we find that the best classification algorithm in terms of training time used is the KNN algorithm associated with cross-validation. Indeed, as we can observe on the curve giving the accuracy as a function of the number of k-folds, the algorithm is quick to train for an accuracy greater than 0.96. However, it is necessary to be wary of this algorithm because the latter stores all the training values those which require a consequent memory space.\n",
    "\n",
    "## The algorithm to be retained for the real application is the random forest algorithm associated with cross-validation, this algorithm although slower than the knn algorithm associated with cross-validation with the advantage of not stopping the training values, to have a good accuracy according to the k-folds and to have an acceptable execution time. This allows the combination of two powerful methods.\n",
    "\n",
    "## The use of cross-validation with random forest allows us to combine two very powerful methods. First of all, cross-validation allows us to use all of our data for training and testing. And the random forest to use a weak set of learners who work in parallel. These two techniques allow us to combine speed and very good precision while avoiding over-flight."
   ]
  },
  {
   "cell_type": "code",
   "execution_count": null,
   "metadata": {},
   "outputs": [],
   "source": []
  }
 ],
 "metadata": {
  "kernelspec": {
   "display_name": "Python 3",
   "language": "python",
   "name": "python3"
  },
  "language_info": {
   "codemirror_mode": {
    "name": "ipython",
    "version": 3
   },
   "file_extension": ".py",
   "mimetype": "text/x-python",
   "name": "python",
   "nbconvert_exporter": "python",
   "pygments_lexer": "ipython3",
   "version": "3.7.3"
  }
 },
 "nbformat": 4,
 "nbformat_minor": 2
}
